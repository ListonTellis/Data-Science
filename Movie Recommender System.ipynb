{
 "cells": [
  {
   "cell_type": "markdown",
   "metadata": {},
   "source": [
    "# Movie Recommender System"
   ]
  },
  {
   "cell_type": "markdown",
   "metadata": {},
   "source": [
    "### Recommender Systems are used almost everywhere these days. They are used in e-commerce sites to suggest related products. They are used in Youtube,Netflix,Amazon Prime Videos,Facebook etc,. These systems aim to suggest most accurate and related items based on user's interest and past browsing history.\n",
    "\n",
    "### In this particluar notebook we are going to look at various types of recommender systems and bulid these recommender systems to suggest related movies based on the user's input movie name. This system takes into account various factors like Cast of the movie, Director of the movie, Genre of the movie, Overview of the movie,Keywords used in the movie  to suggest most related movies."
   ]
  },
  {
   "cell_type": "raw",
   "metadata": {},
   "source": [
    "There are three types of recommender systems:\n",
    "\n",
    "Demographic Filtering\n",
    "This system categorizes the users based on movie popularity and/or genre.\n",
    "\n",
    "Content Based Filtering\n",
    "This system suggests similar items based on the content of the item. \n",
    "\n",
    "Collaborative Filtering\n",
    "Collaborative Filtering matches an individuals with similar interests and provides recommendations based on the matching. I'm not using this in my analysis since it is out of scope of this particular dataset."
   ]
  },
  {
   "cell_type": "raw",
   "metadata": {},
   "source": []
  },
  {
   "cell_type": "code",
   "execution_count": 726,
   "metadata": {},
   "outputs": [],
   "source": [
    "import pandas as pd                   # for data analysis\n",
    "import numpy as np                    # for vector manipulation\n",
    "import matplotlib.pyplot as mlt       # for data visualization\n",
    "import seaborn as sns                 # for data visualization\n",
    "import ast                            # to convert string to list\n",
    "from sklearn.metrics.pairwise import cosine_similarity        # to find similarity between elements\n",
    "from sklearn.feature_extraction.text import CountVectorizer   # to find similarity between elements\n",
    "data1=pd.read_csv('Downloads/Extra/ds/movies/tmdb_credits.csv')\n",
    "data2=pd.read_csv('Downloads/Extra/ds/movies/tmdb_movies.csv')"
   ]
  },
  {
   "cell_type": "markdown",
   "metadata": {},
   "source": [
    "Let's join the two dataset on the 'id' column of 'data2' and 'movie_id' column of data1."
   ]
  },
  {
   "cell_type": "code",
   "execution_count": 695,
   "metadata": {},
   "outputs": [],
   "source": [
    "data = pd.merge(data2,data1,left_on='id',right_on='movie_id')"
   ]
  },
  {
   "cell_type": "markdown",
   "metadata": {},
   "source": [
    "Since both the dataframes had common column 'title' two columns got created. So, now let's delte one of it and rename the other."
   ]
  },
  {
   "cell_type": "code",
   "execution_count": 696,
   "metadata": {},
   "outputs": [],
   "source": [
    "del data['title_y']\n",
    "data=data.rename(columns={'title_x':'title'})"
   ]
  },
  {
   "cell_type": "markdown",
   "metadata": {},
   "source": [
    "### Demographic Recommender System"
   ]
  },
  {
   "cell_type": "markdown",
   "metadata": {},
   "source": [
    "We need to calculate following fields before we proceed further:\n",
    "* Metric to score movies\n",
    "* Score for all every movie\n",
    "* Sort the scores of all movies and recommend best rated movies.\n",
    "\n",
    "We cannot use the average ratings of movies as the score, because it won't be fair enough since a movie with 9.2 average rating and only 2 votes cannot be considered better than the movie with 8.2 as as average rating and has 1000 votes. So, we will use weighted rating (WR), which can be calculated using the below formula:\n",
    "\n",
    "Weighted Rating (WR) = (v*R/(v+m)) + (m*C/(v+m))\n",
    "\n",
    "where,\n",
    "\n",
    "m = Minimum cutoff votes required\n",
    "\n",
    "v = Total number of votes recieved by the movie.\n",
    "\n",
    "C = Mean votes across all movies.\n",
    "\n",
    "R = Average rating of the movie.    "
   ]
  },
  {
   "cell_type": "code",
   "execution_count": 697,
   "metadata": {},
   "outputs": [
    {
     "data": {
      "text/plain": [
       "6.092171559442011"
      ]
     },
     "execution_count": 697,
     "metadata": {},
     "output_type": "execute_result"
    }
   ],
   "source": [
    "C= data['vote_average'].mean()\n",
    "C"
   ]
  },
  {
   "cell_type": "markdown",
   "metadata": {},
   "source": [
    "As seen above, the average rating for all the movies is approx 6 out of 10. Now we need to find minimum cutoff votes (m). I will be using cutoff as 90th percentile. In simple words, for a particular movie to be listed for my further analysis, it should have higher votes than atleast 90% of  all the movies in the list."
   ]
  },
  {
   "cell_type": "code",
   "execution_count": 698,
   "metadata": {},
   "outputs": [
    {
     "data": {
      "text/plain": [
       "1838.4000000000015"
      ]
     },
     "execution_count": 698,
     "metadata": {},
     "output_type": "execute_result"
    }
   ],
   "source": [
    "m= data['vote_count'].quantile(0.9)\n",
    "m"
   ]
  },
  {
   "cell_type": "markdown",
   "metadata": {},
   "source": [
    "Now, we can select only those movies that qualify this score for our analysis."
   ]
  },
  {
   "cell_type": "code",
   "execution_count": 699,
   "metadata": {},
   "outputs": [
    {
     "data": {
      "text/plain": [
       "(481, 23)"
      ]
     },
     "execution_count": 699,
     "metadata": {},
     "output_type": "execute_result"
    }
   ],
   "source": [
    "qualified_movies = data.copy().loc[data['vote_count'] >= m]\n",
    "qualified_movies.shape"
   ]
  },
  {
   "cell_type": "code",
   "execution_count": 700,
   "metadata": {},
   "outputs": [],
   "source": [
    "def weighted_movie_rating(x, m=m, C=C):\n",
    "    v = x['vote_count']\n",
    "    R = x['vote_average']\n",
    "    return (v/(v+m) * R) + (m/(m+v) * C)"
   ]
  },
  {
   "cell_type": "code",
   "execution_count": 701,
   "metadata": {},
   "outputs": [],
   "source": [
    "# Defining a new feature called 'score' and calculating its value with weighted_movie_rating function.\n",
    "qualified_movies['score'] = qualified_movies.apply(weighted_movie_rating, axis=1)"
   ]
  },
  {
   "cell_type": "code",
   "execution_count": 702,
   "metadata": {},
   "outputs": [
    {
     "data": {
      "text/html": [
       "<div>\n",
       "<style scoped>\n",
       "    .dataframe tbody tr th:only-of-type {\n",
       "        vertical-align: middle;\n",
       "    }\n",
       "\n",
       "    .dataframe tbody tr th {\n",
       "        vertical-align: top;\n",
       "    }\n",
       "\n",
       "    .dataframe thead th {\n",
       "        text-align: right;\n",
       "    }\n",
       "</style>\n",
       "<table border=\"1\" class=\"dataframe\">\n",
       "  <thead>\n",
       "    <tr style=\"text-align: right;\">\n",
       "      <th></th>\n",
       "      <th>title</th>\n",
       "      <th>vote_count</th>\n",
       "      <th>vote_average</th>\n",
       "      <th>score</th>\n",
       "    </tr>\n",
       "  </thead>\n",
       "  <tbody>\n",
       "    <tr>\n",
       "      <th>1881</th>\n",
       "      <td>The Shawshank Redemption</td>\n",
       "      <td>8205</td>\n",
       "      <td>8.5</td>\n",
       "      <td>8.059258</td>\n",
       "    </tr>\n",
       "    <tr>\n",
       "      <th>662</th>\n",
       "      <td>Fight Club</td>\n",
       "      <td>9413</td>\n",
       "      <td>8.3</td>\n",
       "      <td>7.939256</td>\n",
       "    </tr>\n",
       "    <tr>\n",
       "      <th>65</th>\n",
       "      <td>The Dark Knight</td>\n",
       "      <td>12002</td>\n",
       "      <td>8.2</td>\n",
       "      <td>7.920020</td>\n",
       "    </tr>\n",
       "    <tr>\n",
       "      <th>3232</th>\n",
       "      <td>Pulp Fiction</td>\n",
       "      <td>8428</td>\n",
       "      <td>8.3</td>\n",
       "      <td>7.904645</td>\n",
       "    </tr>\n",
       "    <tr>\n",
       "      <th>96</th>\n",
       "      <td>Inception</td>\n",
       "      <td>13752</td>\n",
       "      <td>8.1</td>\n",
       "      <td>7.863239</td>\n",
       "    </tr>\n",
       "    <tr>\n",
       "      <th>3337</th>\n",
       "      <td>The Godfather</td>\n",
       "      <td>5893</td>\n",
       "      <td>8.4</td>\n",
       "      <td>7.851236</td>\n",
       "    </tr>\n",
       "    <tr>\n",
       "      <th>95</th>\n",
       "      <td>Interstellar</td>\n",
       "      <td>10867</td>\n",
       "      <td>8.1</td>\n",
       "      <td>7.809479</td>\n",
       "    </tr>\n",
       "    <tr>\n",
       "      <th>809</th>\n",
       "      <td>Forrest Gump</td>\n",
       "      <td>7927</td>\n",
       "      <td>8.2</td>\n",
       "      <td>7.803188</td>\n",
       "    </tr>\n",
       "    <tr>\n",
       "      <th>329</th>\n",
       "      <td>The Lord of the Rings: The Return of the King</td>\n",
       "      <td>8064</td>\n",
       "      <td>8.1</td>\n",
       "      <td>7.727243</td>\n",
       "    </tr>\n",
       "    <tr>\n",
       "      <th>1990</th>\n",
       "      <td>The Empire Strikes Back</td>\n",
       "      <td>5879</td>\n",
       "      <td>8.2</td>\n",
       "      <td>7.697884</td>\n",
       "    </tr>\n",
       "  </tbody>\n",
       "</table>\n",
       "</div>"
      ],
      "text/plain": [
       "                                              title  vote_count  vote_average  \\\n",
       "1881  The Shawshank Redemption                       8205        8.5            \n",
       "662   Fight Club                                     9413        8.3            \n",
       "65    The Dark Knight                                12002       8.2            \n",
       "3232  Pulp Fiction                                   8428        8.3            \n",
       "96    Inception                                      13752       8.1            \n",
       "3337  The Godfather                                  5893        8.4            \n",
       "95    Interstellar                                   10867       8.1            \n",
       "809   Forrest Gump                                   7927        8.2            \n",
       "329   The Lord of the Rings: The Return of the King  8064        8.1            \n",
       "1990  The Empire Strikes Back                        5879        8.2            \n",
       "\n",
       "         score  \n",
       "1881  8.059258  \n",
       "662   7.939256  \n",
       "65    7.920020  \n",
       "3232  7.904645  \n",
       "96    7.863239  \n",
       "3337  7.851236  \n",
       "95    7.809479  \n",
       "809   7.803188  \n",
       "329   7.727243  \n",
       "1990  7.697884  "
      ]
     },
     "execution_count": 702,
     "metadata": {},
     "output_type": "execute_result"
    }
   ],
   "source": [
    "#Sorting movies based on the score\n",
    "qualified_movies = qualified_movies.sort_values('score', ascending=False)\n",
    "\n",
    "#Printing the top 10 movies\n",
    "qualified_movies[['title', 'vote_count', 'vote_average', 'score']].head(10)"
   ]
  },
  {
   "cell_type": "code",
   "execution_count": 703,
   "metadata": {},
   "outputs": [
    {
     "data": {
      "image/png": "[encoded data removed]",
      "text/plain": [
       "<Figure size 1008x432 with 1 Axes>"
      ]
     },
     "metadata": {
      "needs_background": "light"
     },
     "output_type": "display_data"
    }
   ],
   "source": [
    "popular = data.sort_values('popularity',ascending=False).head()\n",
    "popular = popular.set_index('title')\n",
    "mlt.subplots(figsize=(14,6))\n",
    "ax = popular['popularity'].sort_values().head().plot.barh(width =0.9, align='center',color=sns.color_palette('magma_r',8))\n",
    "ax.set_xlabel(\"Popularity Points\", fontsize=18)\n",
    "ax.set_ylabel(\" Movies\", fontsize=18)\n",
    "ax.set_title(\"Popular Movies\",fontsize=18,color='black')\n",
    "totals = []\n",
    "for i in ax.patches:\n",
    "    totals.append(i.get_width())\n",
    "total = sum(totals)\n",
    "for i in ax.patches:\n",
    "    ax.text(i.get_width()+.4, i.get_y()+.3,str(round(i.get_width())), fontsize=13,color='black')\n",
    "plt.show()"
   ]
  },
  {
   "cell_type": "markdown",
   "metadata": {},
   "source": [
    "This demographic recommender gives a common recommended movies to all the users. It is insensitive to the interests of any individual user.So, we will be looking into  more user specific recommender system : Content Based Recommender System."
   ]
  },
  {
   "cell_type": "markdown",
   "metadata": {},
   "source": [
    "### Content Based Recommender System "
   ]
  },
  {
   "cell_type": "markdown",
   "metadata": {},
   "source": [
    "In this System, similarity with the movies is found using the content of the movie like actors, director,summary etc,."
   ]
  },
  {
   "cell_type": "code",
   "execution_count": 704,
   "metadata": {},
   "outputs": [],
   "source": [
    "indices = pd.Series(df2.index, index=df2['title']).drop_duplicates()"
   ]
  },
  {
   "cell_type": "code",
   "execution_count": 705,
   "metadata": {},
   "outputs": [],
   "source": [
    "# Movie recommednation function\n",
    "def get_movie_recommendations(title, cosine_sim=cosine_sim):\n",
    "    idx = indices[title]\n",
    "    sim_scores = list(enumerate(cosine_sim[idx]))\n",
    "    sim_scores = sorted(sim_scores, key=lambda x: x[1], reverse=True)\n",
    "    sim_scores = sim_scores[1:11]\n",
    "    movie_indices = [i[0] for i in sim_scores]\n",
    "    return df2['title'].iloc[movie_indices]"
   ]
  },
  {
   "cell_type": "code",
   "execution_count": 706,
   "metadata": {},
   "outputs": [],
   "source": [
    "# Reverese mapping\n",
    "indices = pd.Series(data.index, index=data['title']).drop_duplicates()"
   ]
  },
  {
   "cell_type": "code",
   "execution_count": 707,
   "metadata": {},
   "outputs": [],
   "source": [
    "# To get director's name\n",
    "def get_director(d):\n",
    "    for i in d:\n",
    "        if i['job'] == 'Director':\n",
    "            return i['name']\n",
    "    return np.nan"
   ]
  },
  {
   "cell_type": "code",
   "execution_count": 708,
   "metadata": {},
   "outputs": [],
   "source": [
    "# To get top three entries.\n",
    "def get_list(top):\n",
    "    if isinstance(top, list):\n",
    "        names = [i['name'] for i in top]\n",
    "        if len(names) > 3:\n",
    "            names = names[:3]\n",
    "        return names\n",
    "    return []"
   ]
  },
  {
   "cell_type": "code",
   "execution_count": 709,
   "metadata": {},
   "outputs": [],
   "source": [
    "# To convert strings to lists\n",
    "data['crew'] = data.crew.apply(lambda s: list(ast.literal_eval(s)))\n",
    "data['cast'] = data.cast.apply(lambda s: list(ast.literal_eval(s)))\n",
    "data['keywords'] = data.keywords.apply(lambda s: list(ast.literal_eval(s)))\n",
    "data['genres'] = data.genres.apply(lambda s: list(ast.literal_eval(s)))"
   ]
  },
  {
   "cell_type": "code",
   "execution_count": 710,
   "metadata": {},
   "outputs": [],
   "source": [
    "#Extracting director's name for each movie.\n",
    "data['director'] = data['crew'].apply(get_director)"
   ]
  },
  {
   "cell_type": "code",
   "execution_count": 711,
   "metadata": {},
   "outputs": [],
   "source": [
    "#Extracing reuired features.\n",
    "features = ['cast', 'keywords', 'genres']\n",
    "for f in features:\n",
    "    data[f] = data[f].apply(get_list)"
   ]
  },
  {
   "cell_type": "code",
   "execution_count": 712,
   "metadata": {},
   "outputs": [
    {
     "data": {
      "text/html": [
       "<div>\n",
       "<style scoped>\n",
       "    .dataframe tbody tr th:only-of-type {\n",
       "        vertical-align: middle;\n",
       "    }\n",
       "\n",
       "    .dataframe tbody tr th {\n",
       "        vertical-align: top;\n",
       "    }\n",
       "\n",
       "    .dataframe thead th {\n",
       "        text-align: right;\n",
       "    }\n",
       "</style>\n",
       "<table border=\"1\" class=\"dataframe\">\n",
       "  <thead>\n",
       "    <tr style=\"text-align: right;\">\n",
       "      <th></th>\n",
       "      <th>title</th>\n",
       "      <th>genres</th>\n",
       "      <th>director</th>\n",
       "      <th>cast</th>\n",
       "      <th>keywords</th>\n",
       "    </tr>\n",
       "  </thead>\n",
       "  <tbody>\n",
       "    <tr>\n",
       "      <th>0</th>\n",
       "      <td>Avatar</td>\n",
       "      <td>[Action, Adventure, Fantasy]</td>\n",
       "      <td>James Cameron</td>\n",
       "      <td>[Sam Worthington, Zoe Saldana, Sigourney Weaver]</td>\n",
       "      <td>[culture clash, future, space war]</td>\n",
       "    </tr>\n",
       "    <tr>\n",
       "      <th>1</th>\n",
       "      <td>Pirates of the Caribbean: At World's End</td>\n",
       "      <td>[Adventure, Fantasy, Action]</td>\n",
       "      <td>Gore Verbinski</td>\n",
       "      <td>[Johnny Depp, Orlando Bloom, Keira Knightley]</td>\n",
       "      <td>[ocean, drug abuse, exotic island]</td>\n",
       "    </tr>\n",
       "    <tr>\n",
       "      <th>2</th>\n",
       "      <td>Spectre</td>\n",
       "      <td>[Action, Adventure, Crime]</td>\n",
       "      <td>Sam Mendes</td>\n",
       "      <td>[Daniel Craig, Christoph Waltz, Léa Seydoux]</td>\n",
       "      <td>[spy, based on novel, secret agent]</td>\n",
       "    </tr>\n",
       "    <tr>\n",
       "      <th>3</th>\n",
       "      <td>The Dark Knight Rises</td>\n",
       "      <td>[Action, Crime, Drama]</td>\n",
       "      <td>Christopher Nolan</td>\n",
       "      <td>[Christian Bale, Michael Caine, Gary Oldman]</td>\n",
       "      <td>[dc comics, crime fighter, terrorist]</td>\n",
       "    </tr>\n",
       "    <tr>\n",
       "      <th>4</th>\n",
       "      <td>John Carter</td>\n",
       "      <td>[Action, Adventure, Science Fiction]</td>\n",
       "      <td>Andrew Stanton</td>\n",
       "      <td>[Taylor Kitsch, Lynn Collins, Samantha Morton]</td>\n",
       "      <td>[based on novel, mars, medallion]</td>\n",
       "    </tr>\n",
       "  </tbody>\n",
       "</table>\n",
       "</div>"
      ],
      "text/plain": [
       "                                      title  \\\n",
       "0  Avatar                                     \n",
       "1  Pirates of the Caribbean: At World's End   \n",
       "2  Spectre                                    \n",
       "3  The Dark Knight Rises                      \n",
       "4  John Carter                                \n",
       "\n",
       "                                 genres           director  \\\n",
       "0  [Action, Adventure, Fantasy]          James Cameron       \n",
       "1  [Adventure, Fantasy, Action]          Gore Verbinski      \n",
       "2  [Action, Adventure, Crime]            Sam Mendes          \n",
       "3  [Action, Crime, Drama]                Christopher Nolan   \n",
       "4  [Action, Adventure, Science Fiction]  Andrew Stanton      \n",
       "\n",
       "                                               cast  \\\n",
       "0  [Sam Worthington, Zoe Saldana, Sigourney Weaver]   \n",
       "1  [Johnny Depp, Orlando Bloom, Keira Knightley]      \n",
       "2  [Daniel Craig, Christoph Waltz, Léa Seydoux]       \n",
       "3  [Christian Bale, Michael Caine, Gary Oldman]       \n",
       "4  [Taylor Kitsch, Lynn Collins, Samantha Morton]     \n",
       "\n",
       "                                keywords  \n",
       "0  [culture clash, future, space war]     \n",
       "1  [ocean, drug abuse, exotic island]     \n",
       "2  [spy, based on novel, secret agent]    \n",
       "3  [dc comics, crime fighter, terrorist]  \n",
       "4  [based on novel, mars, medallion]      "
      ]
     },
     "execution_count": 712,
     "metadata": {},
     "output_type": "execute_result"
    }
   ],
   "source": [
    "data[['title','genres','director', 'cast', 'keywords']].head()\n"
   ]
  },
  {
   "cell_type": "code",
   "execution_count": 713,
   "metadata": {},
   "outputs": [],
   "source": [
    "def data_cleaning(c):\n",
    "    if isinstance(c, list):\n",
    "        return [str.lower(i.replace(\" \", \"\")) for i in c]\n",
    "    else:\n",
    "        if isinstance(c, str):\n",
    "            return str.lower(c.replace(\" \", \"\"))\n",
    "        else:\n",
    "            return ''"
   ]
  },
  {
   "cell_type": "code",
   "execution_count": 714,
   "metadata": {},
   "outputs": [],
   "source": [
    "features = ['cast', 'keywords', 'director', 'genres']\n",
    "\n",
    "for f in features:\n",
    "    data[f] = data[f].apply(data_cleaning)"
   ]
  },
  {
   "cell_type": "code",
   "execution_count": 715,
   "metadata": {},
   "outputs": [],
   "source": [
    "def create_movie_soup(m):\n",
    "    return ' '.join(m['keywords']) + ' ' + ' '.join(m['cast']) + ' ' + m['director'] + ' ' + ' '.join(m['genres'])\n",
    "data['movie_soup'] = data.apply(create_movie_soup, axis=1)"
   ]
  },
  {
   "cell_type": "code",
   "execution_count": 716,
   "metadata": {},
   "outputs": [],
   "source": [
    "# to find cosine similarity\n",
    "count = CountVectorizer(stop_words='english')\n",
    "count_matrix = count.fit_transform(data['movie_soup'])\n",
    "cosine_similarity = cosine_similarity(count_matrix, count_matrix)\n",
    "data = data.reset_index()\n",
    "indices = pd.Series(data.index, index=data['title'])"
   ]
  },
  {
   "cell_type": "raw",
   "metadata": {},
   "source": []
  },
  {
   "cell_type": "markdown",
   "metadata": {},
   "source": [
    "## Sample Results"
   ]
  },
  {
   "cell_type": "markdown",
   "metadata": {},
   "source": [
    "### Sample Output 1 "
   ]
  },
  {
   "cell_type": "code",
   "execution_count": 717,
   "metadata": {},
   "outputs": [
    {
     "data": {
      "text/html": [
       "<div>\n",
       "<style scoped>\n",
       "    .dataframe tbody tr th:only-of-type {\n",
       "        vertical-align: middle;\n",
       "    }\n",
       "\n",
       "    .dataframe tbody tr th {\n",
       "        vertical-align: top;\n",
       "    }\n",
       "\n",
       "    .dataframe thead th {\n",
       "        text-align: right;\n",
       "    }\n",
       "</style>\n",
       "<table border=\"1\" class=\"dataframe\">\n",
       "  <thead>\n",
       "    <tr style=\"text-align: right;\">\n",
       "      <th></th>\n",
       "      <th>Recommended Movies</th>\n",
       "    </tr>\n",
       "  </thead>\n",
       "  <tbody>\n",
       "    <tr>\n",
       "      <th>0</th>\n",
       "      <td>G-Force</td>\n",
       "    </tr>\n",
       "    <tr>\n",
       "      <th>1</th>\n",
       "      <td>Pirates of the Caribbean: At World's End</td>\n",
       "    </tr>\n",
       "    <tr>\n",
       "      <th>2</th>\n",
       "      <td>Pirates of the Caribbean: Dead Man's Chest</td>\n",
       "    </tr>\n",
       "    <tr>\n",
       "      <th>3</th>\n",
       "      <td>Pirates of the Caribbean: The Curse of the Black Pearl</td>\n",
       "    </tr>\n",
       "    <tr>\n",
       "      <th>4</th>\n",
       "      <td>The Mummy: Tomb of the Dragon Emperor</td>\n",
       "    </tr>\n",
       "    <tr>\n",
       "      <th>5</th>\n",
       "      <td>The Monkey King 2</td>\n",
       "    </tr>\n",
       "    <tr>\n",
       "      <th>6</th>\n",
       "      <td>The Sorcerer's Apprentice</td>\n",
       "    </tr>\n",
       "    <tr>\n",
       "      <th>7</th>\n",
       "      <td>Sahara</td>\n",
       "    </tr>\n",
       "    <tr>\n",
       "      <th>8</th>\n",
       "      <td>Fantastic 4: Rise of the Silver Surfer</td>\n",
       "    </tr>\n",
       "    <tr>\n",
       "      <th>9</th>\n",
       "      <td>Hercules</td>\n",
       "    </tr>\n",
       "  </tbody>\n",
       "</table>\n",
       "</div>"
      ],
      "text/plain": [
       "                                       Recommended Movies\n",
       "0  G-Force                                               \n",
       "1  Pirates of the Caribbean: At World's End              \n",
       "2  Pirates of the Caribbean: Dead Man's Chest            \n",
       "3  Pirates of the Caribbean: The Curse of the Black Pearl\n",
       "4  The Mummy: Tomb of the Dragon Emperor                 \n",
       "5  The Monkey King 2                                     \n",
       "6  The Sorcerer's Apprentice                             \n",
       "7  Sahara                                                \n",
       "8  Fantastic 4: Rise of the Silver Surfer                \n",
       "9  Hercules                                              "
      ]
     },
     "execution_count": 717,
     "metadata": {},
     "output_type": "execute_result"
    }
   ],
   "source": [
    "output = get_movie_recommendations('Pirates of the Caribbean: On Stranger Tides', cosine_similarity).reset_index(drop=True).reset_index().rename(columns={'title':'Recommended Movies'})\n",
    "del output['index']\n",
    "output"
   ]
  },
  {
   "cell_type": "raw",
   "metadata": {},
   "source": []
  },
  {
   "cell_type": "markdown",
   "metadata": {},
   "source": [
    "### Sample Output 2 "
   ]
  },
  {
   "cell_type": "code",
   "execution_count": 718,
   "metadata": {},
   "outputs": [
    {
     "data": {
      "text/html": [
       "<div>\n",
       "<style scoped>\n",
       "    .dataframe tbody tr th:only-of-type {\n",
       "        vertical-align: middle;\n",
       "    }\n",
       "\n",
       "    .dataframe tbody tr th {\n",
       "        vertical-align: top;\n",
       "    }\n",
       "\n",
       "    .dataframe thead th {\n",
       "        text-align: right;\n",
       "    }\n",
       "</style>\n",
       "<table border=\"1\" class=\"dataframe\">\n",
       "  <thead>\n",
       "    <tr style=\"text-align: right;\">\n",
       "      <th></th>\n",
       "      <th>Recommended Movies</th>\n",
       "    </tr>\n",
       "  </thead>\n",
       "  <tbody>\n",
       "    <tr>\n",
       "      <th>0</th>\n",
       "      <td>The Avengers</td>\n",
       "    </tr>\n",
       "    <tr>\n",
       "      <th>1</th>\n",
       "      <td>Iron Man 2</td>\n",
       "    </tr>\n",
       "    <tr>\n",
       "      <th>2</th>\n",
       "      <td>Captain America: Civil War</td>\n",
       "    </tr>\n",
       "    <tr>\n",
       "      <th>3</th>\n",
       "      <td>Thor: The Dark World</td>\n",
       "    </tr>\n",
       "    <tr>\n",
       "      <th>4</th>\n",
       "      <td>Ant-Man</td>\n",
       "    </tr>\n",
       "    <tr>\n",
       "      <th>5</th>\n",
       "      <td>X2</td>\n",
       "    </tr>\n",
       "    <tr>\n",
       "      <th>6</th>\n",
       "      <td>X-Men</td>\n",
       "    </tr>\n",
       "    <tr>\n",
       "      <th>7</th>\n",
       "      <td>Iron Man 3</td>\n",
       "    </tr>\n",
       "    <tr>\n",
       "      <th>8</th>\n",
       "      <td>X-Men: The Last Stand</td>\n",
       "    </tr>\n",
       "    <tr>\n",
       "      <th>9</th>\n",
       "      <td>Transformers: Age of Extinction</td>\n",
       "    </tr>\n",
       "  </tbody>\n",
       "</table>\n",
       "</div>"
      ],
      "text/plain": [
       "                Recommended Movies\n",
       "0  The Avengers                   \n",
       "1  Iron Man 2                     \n",
       "2  Captain America: Civil War     \n",
       "3  Thor: The Dark World           \n",
       "4  Ant-Man                        \n",
       "5  X2                             \n",
       "6  X-Men                          \n",
       "7  Iron Man 3                     \n",
       "8  X-Men: The Last Stand          \n",
       "9  Transformers: Age of Extinction"
      ]
     },
     "execution_count": 718,
     "metadata": {},
     "output_type": "execute_result"
    }
   ],
   "source": [
    "output = get_movie_recommendations('Avengers: Age of Ultron', cosine_similarity).reset_index(drop=True).reset_index().rename(columns={'title':'Recommended Movies'})\n",
    "del output['index']\n",
    "output"
   ]
  },
  {
   "cell_type": "raw",
   "metadata": {},
   "source": []
  },
  {
   "cell_type": "markdown",
   "metadata": {},
   "source": [
    "### Sample Output 3 "
   ]
  },
  {
   "cell_type": "code",
   "execution_count": 719,
   "metadata": {},
   "outputs": [
    {
     "data": {
      "text/html": [
       "<div>\n",
       "<style scoped>\n",
       "    .dataframe tbody tr th:only-of-type {\n",
       "        vertical-align: middle;\n",
       "    }\n",
       "\n",
       "    .dataframe tbody tr th {\n",
       "        vertical-align: top;\n",
       "    }\n",
       "\n",
       "    .dataframe thead th {\n",
       "        text-align: right;\n",
       "    }\n",
       "</style>\n",
       "<table border=\"1\" class=\"dataframe\">\n",
       "  <thead>\n",
       "    <tr style=\"text-align: right;\">\n",
       "      <th></th>\n",
       "      <th>Recommended Movies</th>\n",
       "    </tr>\n",
       "  </thead>\n",
       "  <tbody>\n",
       "    <tr>\n",
       "      <th>0</th>\n",
       "      <td>Pinocchio</td>\n",
       "    </tr>\n",
       "    <tr>\n",
       "      <th>1</th>\n",
       "      <td>Thunder and the House of Magic</td>\n",
       "    </tr>\n",
       "    <tr>\n",
       "      <th>2</th>\n",
       "      <td>Running Forever</td>\n",
       "    </tr>\n",
       "    <tr>\n",
       "      <th>3</th>\n",
       "      <td>Toy Story 3</td>\n",
       "    </tr>\n",
       "    <tr>\n",
       "      <th>4</th>\n",
       "      <td>The Smurfs</td>\n",
       "    </tr>\n",
       "    <tr>\n",
       "      <th>5</th>\n",
       "      <td>Hotel Transylvania</td>\n",
       "    </tr>\n",
       "    <tr>\n",
       "      <th>6</th>\n",
       "      <td>Alvin and the Chipmunks: The Squeakquel</td>\n",
       "    </tr>\n",
       "    <tr>\n",
       "      <th>7</th>\n",
       "      <td>Aladdin</td>\n",
       "    </tr>\n",
       "    <tr>\n",
       "      <th>8</th>\n",
       "      <td>Valiant</td>\n",
       "    </tr>\n",
       "    <tr>\n",
       "      <th>9</th>\n",
       "      <td>Atlantis: The Lost Empire</td>\n",
       "    </tr>\n",
       "  </tbody>\n",
       "</table>\n",
       "</div>"
      ],
      "text/plain": [
       "                        Recommended Movies\n",
       "0  Pinocchio                              \n",
       "1  Thunder and the House of Magic         \n",
       "2  Running Forever                        \n",
       "3  Toy Story 3                            \n",
       "4  The Smurfs                             \n",
       "5  Hotel Transylvania                     \n",
       "6  Alvin and the Chipmunks: The Squeakquel\n",
       "7  Aladdin                                \n",
       "8  Valiant                                \n",
       "9  Atlantis: The Lost Empire              "
      ]
     },
     "execution_count": 719,
     "metadata": {},
     "output_type": "execute_result"
    }
   ],
   "source": [
    "output = get_movie_recommendations('Tangled', cosine_similarity).reset_index(drop=True).reset_index().rename(columns={'title':'Recommended Movies'})\n",
    "del output['index']\n",
    "output"
   ]
  },
  {
   "cell_type": "raw",
   "metadata": {},
   "source": []
  },
  {
   "cell_type": "markdown",
   "metadata": {},
   "source": [
    "### Sample Output 4 "
   ]
  },
  {
   "cell_type": "code",
   "execution_count": 720,
   "metadata": {},
   "outputs": [
    {
     "data": {
      "text/html": [
       "<div>\n",
       "<style scoped>\n",
       "    .dataframe tbody tr th:only-of-type {\n",
       "        vertical-align: middle;\n",
       "    }\n",
       "\n",
       "    .dataframe tbody tr th {\n",
       "        vertical-align: top;\n",
       "    }\n",
       "\n",
       "    .dataframe thead th {\n",
       "        text-align: right;\n",
       "    }\n",
       "</style>\n",
       "<table border=\"1\" class=\"dataframe\">\n",
       "  <thead>\n",
       "    <tr style=\"text-align: right;\">\n",
       "      <th></th>\n",
       "      <th>Recommended Movies</th>\n",
       "    </tr>\n",
       "  </thead>\n",
       "  <tbody>\n",
       "    <tr>\n",
       "      <th>0</th>\n",
       "      <td>The Hobbit: An Unexpected Journey</td>\n",
       "    </tr>\n",
       "    <tr>\n",
       "      <th>1</th>\n",
       "      <td>The Hobbit: The Desolation of Smaug</td>\n",
       "    </tr>\n",
       "    <tr>\n",
       "      <th>2</th>\n",
       "      <td>The Lord of the Rings: The Fellowship of the Ring</td>\n",
       "    </tr>\n",
       "    <tr>\n",
       "      <th>3</th>\n",
       "      <td>The Lord of the Rings: The Return of the King</td>\n",
       "    </tr>\n",
       "    <tr>\n",
       "      <th>4</th>\n",
       "      <td>The Lord of the Rings: The Two Towers</td>\n",
       "    </tr>\n",
       "    <tr>\n",
       "      <th>5</th>\n",
       "      <td>Warcraft</td>\n",
       "    </tr>\n",
       "    <tr>\n",
       "      <th>6</th>\n",
       "      <td>The Borrowers</td>\n",
       "    </tr>\n",
       "    <tr>\n",
       "      <th>7</th>\n",
       "      <td>The Mummy: Tomb of the Dragon Emperor</td>\n",
       "    </tr>\n",
       "    <tr>\n",
       "      <th>8</th>\n",
       "      <td>The Monkey King 2</td>\n",
       "    </tr>\n",
       "    <tr>\n",
       "      <th>9</th>\n",
       "      <td>The Sorcerer's Apprentice</td>\n",
       "    </tr>\n",
       "  </tbody>\n",
       "</table>\n",
       "</div>"
      ],
      "text/plain": [
       "                                  Recommended Movies\n",
       "0  The Hobbit: An Unexpected Journey                \n",
       "1  The Hobbit: The Desolation of Smaug              \n",
       "2  The Lord of the Rings: The Fellowship of the Ring\n",
       "3  The Lord of the Rings: The Return of the King    \n",
       "4  The Lord of the Rings: The Two Towers            \n",
       "5  Warcraft                                         \n",
       "6  The Borrowers                                    \n",
       "7  The Mummy: Tomb of the Dragon Emperor            \n",
       "8  The Monkey King 2                                \n",
       "9  The Sorcerer's Apprentice                        "
      ]
     },
     "execution_count": 720,
     "metadata": {},
     "output_type": "execute_result"
    }
   ],
   "source": [
    "output = get_movie_recommendations('The Hobbit: The Battle of the Five Armies', cosine_similarity).reset_index(drop=True).reset_index().rename(columns={'title':'Recommended Movies'})\n",
    "del output['index']\n",
    "output"
   ]
  },
  {
   "cell_type": "raw",
   "metadata": {},
   "source": []
  },
  {
   "cell_type": "markdown",
   "metadata": {},
   "source": [
    "### Sample Output 5  "
   ]
  },
  {
   "cell_type": "code",
   "execution_count": 721,
   "metadata": {},
   "outputs": [
    {
     "data": {
      "text/html": [
       "<div>\n",
       "<style scoped>\n",
       "    .dataframe tbody tr th:only-of-type {\n",
       "        vertical-align: middle;\n",
       "    }\n",
       "\n",
       "    .dataframe tbody tr th {\n",
       "        vertical-align: top;\n",
       "    }\n",
       "\n",
       "    .dataframe thead th {\n",
       "        text-align: right;\n",
       "    }\n",
       "</style>\n",
       "<table border=\"1\" class=\"dataframe\">\n",
       "  <thead>\n",
       "    <tr style=\"text-align: right;\">\n",
       "      <th></th>\n",
       "      <th>Recommended Movies</th>\n",
       "    </tr>\n",
       "  </thead>\n",
       "  <tbody>\n",
       "    <tr>\n",
       "      <th>0</th>\n",
       "      <td>Revolutionary Road</td>\n",
       "    </tr>\n",
       "    <tr>\n",
       "      <th>1</th>\n",
       "      <td>Me You and Five Bucks</td>\n",
       "    </tr>\n",
       "    <tr>\n",
       "      <th>2</th>\n",
       "      <td>The Great Gatsby</td>\n",
       "    </tr>\n",
       "    <tr>\n",
       "      <th>3</th>\n",
       "      <td>All the King's Men</td>\n",
       "    </tr>\n",
       "    <tr>\n",
       "      <th>4</th>\n",
       "      <td>Angel Eyes</td>\n",
       "    </tr>\n",
       "    <tr>\n",
       "      <th>5</th>\n",
       "      <td>The Reader</td>\n",
       "    </tr>\n",
       "    <tr>\n",
       "      <th>6</th>\n",
       "      <td>Sense and Sensibility</td>\n",
       "    </tr>\n",
       "    <tr>\n",
       "      <th>7</th>\n",
       "      <td>Romeo + Juliet</td>\n",
       "    </tr>\n",
       "    <tr>\n",
       "      <th>8</th>\n",
       "      <td>Little Children</td>\n",
       "    </tr>\n",
       "    <tr>\n",
       "      <th>9</th>\n",
       "      <td>What's Eating Gilbert Grape</td>\n",
       "    </tr>\n",
       "  </tbody>\n",
       "</table>\n",
       "</div>"
      ],
      "text/plain": [
       "            Recommended Movies\n",
       "0  Revolutionary Road         \n",
       "1  Me You and Five Bucks      \n",
       "2  The Great Gatsby           \n",
       "3  All the King's Men         \n",
       "4  Angel Eyes                 \n",
       "5  The Reader                 \n",
       "6  Sense and Sensibility      \n",
       "7  Romeo + Juliet             \n",
       "8  Little Children            \n",
       "9  What's Eating Gilbert Grape"
      ]
     },
     "execution_count": 721,
     "metadata": {},
     "output_type": "execute_result"
    }
   ],
   "source": [
    "output = get_movie_recommendations('Titanic', cosine_similarity).reset_index(drop=True).reset_index().rename(columns={'title':'Recommended Movies'})\n",
    "del output['index']\n",
    "output"
   ]
  },
  {
   "cell_type": "raw",
   "metadata": {},
   "source": []
  },
  {
   "cell_type": "markdown",
   "metadata": {},
   "source": [
    "### Sample Output 6"
   ]
  },
  {
   "cell_type": "code",
   "execution_count": 722,
   "metadata": {},
   "outputs": [
    {
     "data": {
      "text/html": [
       "<div>\n",
       "<style scoped>\n",
       "    .dataframe tbody tr th:only-of-type {\n",
       "        vertical-align: middle;\n",
       "    }\n",
       "\n",
       "    .dataframe tbody tr th {\n",
       "        vertical-align: top;\n",
       "    }\n",
       "\n",
       "    .dataframe thead th {\n",
       "        text-align: right;\n",
       "    }\n",
       "</style>\n",
       "<table border=\"1\" class=\"dataframe\">\n",
       "  <thead>\n",
       "    <tr style=\"text-align: right;\">\n",
       "      <th></th>\n",
       "      <th>Recommended Movies</th>\n",
       "    </tr>\n",
       "  </thead>\n",
       "  <tbody>\n",
       "    <tr>\n",
       "      <th>0</th>\n",
       "      <td>Kung Fu Panda 3</td>\n",
       "    </tr>\n",
       "    <tr>\n",
       "      <th>1</th>\n",
       "      <td>Kung Fu Panda 2</td>\n",
       "    </tr>\n",
       "    <tr>\n",
       "      <th>2</th>\n",
       "      <td>The Tale of Despereaux</td>\n",
       "    </tr>\n",
       "    <tr>\n",
       "      <th>3</th>\n",
       "      <td>Valiant</td>\n",
       "    </tr>\n",
       "    <tr>\n",
       "      <th>4</th>\n",
       "      <td>Atlantis: The Lost Empire</td>\n",
       "    </tr>\n",
       "    <tr>\n",
       "      <th>5</th>\n",
       "      <td>Legend of the Guardians: The Owls of Ga'Hoole</td>\n",
       "    </tr>\n",
       "    <tr>\n",
       "      <th>6</th>\n",
       "      <td>Epic</td>\n",
       "    </tr>\n",
       "    <tr>\n",
       "      <th>7</th>\n",
       "      <td>Walking With Dinosaurs</td>\n",
       "    </tr>\n",
       "    <tr>\n",
       "      <th>8</th>\n",
       "      <td>Jungle Shuffle</td>\n",
       "    </tr>\n",
       "    <tr>\n",
       "      <th>9</th>\n",
       "      <td>Running Forever</td>\n",
       "    </tr>\n",
       "  </tbody>\n",
       "</table>\n",
       "</div>"
      ],
      "text/plain": [
       "                              Recommended Movies\n",
       "0  Kung Fu Panda 3                              \n",
       "1  Kung Fu Panda 2                              \n",
       "2  The Tale of Despereaux                       \n",
       "3  Valiant                                      \n",
       "4  Atlantis: The Lost Empire                    \n",
       "5  Legend of the Guardians: The Owls of Ga'Hoole\n",
       "6  Epic                                         \n",
       "7  Walking With Dinosaurs                       \n",
       "8  Jungle Shuffle                               \n",
       "9  Running Forever                              "
      ]
     },
     "execution_count": 722,
     "metadata": {},
     "output_type": "execute_result"
    }
   ],
   "source": [
    "output = get_movie_recommendations('Kung Fu Panda', cosine_similarity).reset_index(drop=True).reset_index().rename(columns={'title':'Recommended Movies'})\n",
    "del output['index']\n",
    "output"
   ]
  },
  {
   "cell_type": "raw",
   "metadata": {},
   "source": []
  },
  {
   "cell_type": "markdown",
   "metadata": {},
   "source": [
    "### Sample Output 8 "
   ]
  },
  {
   "cell_type": "code",
   "execution_count": 723,
   "metadata": {},
   "outputs": [
    {
     "data": {
      "text/html": [
       "<div>\n",
       "<style scoped>\n",
       "    .dataframe tbody tr th:only-of-type {\n",
       "        vertical-align: middle;\n",
       "    }\n",
       "\n",
       "    .dataframe tbody tr th {\n",
       "        vertical-align: top;\n",
       "    }\n",
       "\n",
       "    .dataframe thead th {\n",
       "        text-align: right;\n",
       "    }\n",
       "</style>\n",
       "<table border=\"1\" class=\"dataframe\">\n",
       "  <thead>\n",
       "    <tr style=\"text-align: right;\">\n",
       "      <th></th>\n",
       "      <th>Recommended Movies</th>\n",
       "    </tr>\n",
       "  </thead>\n",
       "  <tbody>\n",
       "    <tr>\n",
       "      <th>0</th>\n",
       "      <td>Spectre</td>\n",
       "    </tr>\n",
       "    <tr>\n",
       "      <th>1</th>\n",
       "      <td>Quantum of Solace</td>\n",
       "    </tr>\n",
       "    <tr>\n",
       "      <th>2</th>\n",
       "      <td>Mission: Impossible - Rogue Nation</td>\n",
       "    </tr>\n",
       "    <tr>\n",
       "      <th>3</th>\n",
       "      <td>Tomorrow Never Dies</td>\n",
       "    </tr>\n",
       "    <tr>\n",
       "      <th>4</th>\n",
       "      <td>Casino Royale</td>\n",
       "    </tr>\n",
       "    <tr>\n",
       "      <th>5</th>\n",
       "      <td>Mission: Impossible</td>\n",
       "    </tr>\n",
       "    <tr>\n",
       "      <th>6</th>\n",
       "      <td>The Hunting Party</td>\n",
       "    </tr>\n",
       "    <tr>\n",
       "      <th>7</th>\n",
       "      <td>Never Say Never Again</td>\n",
       "    </tr>\n",
       "    <tr>\n",
       "      <th>8</th>\n",
       "      <td>Diamonds Are Forever</td>\n",
       "    </tr>\n",
       "    <tr>\n",
       "      <th>9</th>\n",
       "      <td>Killer Elite</td>\n",
       "    </tr>\n",
       "  </tbody>\n",
       "</table>\n",
       "</div>"
      ],
      "text/plain": [
       "                   Recommended Movies\n",
       "0  Spectre                           \n",
       "1  Quantum of Solace                 \n",
       "2  Mission: Impossible - Rogue Nation\n",
       "3  Tomorrow Never Dies               \n",
       "4  Casino Royale                     \n",
       "5  Mission: Impossible               \n",
       "6  The Hunting Party                 \n",
       "7  Never Say Never Again             \n",
       "8  Diamonds Are Forever              \n",
       "9  Killer Elite                      "
      ]
     },
     "execution_count": 723,
     "metadata": {},
     "output_type": "execute_result"
    }
   ],
   "source": [
    "output = get_movie_recommendations('Skyfall', cosine_similarity).reset_index(drop=True).reset_index().rename(columns={'title':'Recommended Movies'})\n",
    "del output['index']\n",
    "output"
   ]
  },
  {
   "cell_type": "raw",
   "metadata": {},
   "source": []
  },
  {
   "cell_type": "markdown",
   "metadata": {},
   "source": [
    "### Sample Output 9 "
   ]
  },
  {
   "cell_type": "code",
   "execution_count": 724,
   "metadata": {},
   "outputs": [
    {
     "data": {
      "text/html": [
       "<div>\n",
       "<style scoped>\n",
       "    .dataframe tbody tr th:only-of-type {\n",
       "        vertical-align: middle;\n",
       "    }\n",
       "\n",
       "    .dataframe tbody tr th {\n",
       "        vertical-align: top;\n",
       "    }\n",
       "\n",
       "    .dataframe thead th {\n",
       "        text-align: right;\n",
       "    }\n",
       "</style>\n",
       "<table border=\"1\" class=\"dataframe\">\n",
       "  <thead>\n",
       "    <tr style=\"text-align: right;\">\n",
       "      <th></th>\n",
       "      <th>Recommended Movies</th>\n",
       "    </tr>\n",
       "  </thead>\n",
       "  <tbody>\n",
       "    <tr>\n",
       "      <th>0</th>\n",
       "      <td>Harry Potter and the Chamber of Secrets</td>\n",
       "    </tr>\n",
       "    <tr>\n",
       "      <th>1</th>\n",
       "      <td>Harry Potter and the Half-Blood Prince</td>\n",
       "    </tr>\n",
       "    <tr>\n",
       "      <th>2</th>\n",
       "      <td>Harry Potter and the Order of the Phoenix</td>\n",
       "    </tr>\n",
       "    <tr>\n",
       "      <th>3</th>\n",
       "      <td>Harry Potter and the Goblet of Fire</td>\n",
       "    </tr>\n",
       "    <tr>\n",
       "      <th>4</th>\n",
       "      <td>Harry Potter and the Prisoner of Azkaban</td>\n",
       "    </tr>\n",
       "    <tr>\n",
       "      <th>5</th>\n",
       "      <td>Oz: The Great and Powerful</td>\n",
       "    </tr>\n",
       "    <tr>\n",
       "      <th>6</th>\n",
       "      <td>The Chronicles of Narnia: The Lion, the Witch and the Wardrobe</td>\n",
       "    </tr>\n",
       "    <tr>\n",
       "      <th>7</th>\n",
       "      <td>The Chronicles of Narnia: The Voyage of the Dawn Treader</td>\n",
       "    </tr>\n",
       "    <tr>\n",
       "      <th>8</th>\n",
       "      <td>Pan</td>\n",
       "    </tr>\n",
       "    <tr>\n",
       "      <th>9</th>\n",
       "      <td>Spirited Away</td>\n",
       "    </tr>\n",
       "  </tbody>\n",
       "</table>\n",
       "</div>"
      ],
      "text/plain": [
       "                                               Recommended Movies\n",
       "0  Harry Potter and the Chamber of Secrets                       \n",
       "1  Harry Potter and the Half-Blood Prince                        \n",
       "2  Harry Potter and the Order of the Phoenix                     \n",
       "3  Harry Potter and the Goblet of Fire                           \n",
       "4  Harry Potter and the Prisoner of Azkaban                      \n",
       "5  Oz: The Great and Powerful                                    \n",
       "6  The Chronicles of Narnia: The Lion, the Witch and the Wardrobe\n",
       "7  The Chronicles of Narnia: The Voyage of the Dawn Treader      \n",
       "8  Pan                                                           \n",
       "9  Spirited Away                                                 "
      ]
     },
     "execution_count": 724,
     "metadata": {},
     "output_type": "execute_result"
    }
   ],
   "source": [
    "output = get_movie_recommendations(\"Harry Potter and the Philosopher's Stone\", cosine_similarity).reset_index(drop=True).reset_index().rename(columns={'title':'Recommended Movies'})\n",
    "del output['index']\n",
    "output"
   ]
  },
  {
   "cell_type": "raw",
   "metadata": {},
   "source": []
  },
  {
   "cell_type": "markdown",
   "metadata": {},
   "source": [
    "### Sample Output 10 "
   ]
  },
  {
   "cell_type": "code",
   "execution_count": 725,
   "metadata": {},
   "outputs": [
    {
     "data": {
      "text/html": [
       "<div>\n",
       "<style scoped>\n",
       "    .dataframe tbody tr th:only-of-type {\n",
       "        vertical-align: middle;\n",
       "    }\n",
       "\n",
       "    .dataframe tbody tr th {\n",
       "        vertical-align: top;\n",
       "    }\n",
       "\n",
       "    .dataframe thead th {\n",
       "        text-align: right;\n",
       "    }\n",
       "</style>\n",
       "<table border=\"1\" class=\"dataframe\">\n",
       "  <thead>\n",
       "    <tr style=\"text-align: right;\">\n",
       "      <th></th>\n",
       "      <th>Recommended Movies</th>\n",
       "    </tr>\n",
       "  </thead>\n",
       "  <tbody>\n",
       "    <tr>\n",
       "      <th>0</th>\n",
       "      <td>I Heart Huckabees</td>\n",
       "    </tr>\n",
       "    <tr>\n",
       "      <th>1</th>\n",
       "      <td>Easy Virtue</td>\n",
       "    </tr>\n",
       "    <tr>\n",
       "      <th>2</th>\n",
       "      <td>The Ugly Truth</td>\n",
       "    </tr>\n",
       "    <tr>\n",
       "      <th>3</th>\n",
       "      <td>Silver Linings Playbook</td>\n",
       "    </tr>\n",
       "    <tr>\n",
       "      <th>4</th>\n",
       "      <td>Flirting with Disaster</td>\n",
       "    </tr>\n",
       "    <tr>\n",
       "      <th>5</th>\n",
       "      <td>Me You and Five Bucks</td>\n",
       "    </tr>\n",
       "    <tr>\n",
       "      <th>6</th>\n",
       "      <td>Never Again</td>\n",
       "    </tr>\n",
       "    <tr>\n",
       "      <th>7</th>\n",
       "      <td>You've Got Mail</td>\n",
       "    </tr>\n",
       "    <tr>\n",
       "      <th>8</th>\n",
       "      <td>Two Weeks Notice</td>\n",
       "    </tr>\n",
       "    <tr>\n",
       "      <th>9</th>\n",
       "      <td>Valentine's Day</td>\n",
       "    </tr>\n",
       "  </tbody>\n",
       "</table>\n",
       "</div>"
      ],
      "text/plain": [
       "        Recommended Movies\n",
       "0  I Heart Huckabees      \n",
       "1  Easy Virtue            \n",
       "2  The Ugly Truth         \n",
       "3  Silver Linings Playbook\n",
       "4  Flirting with Disaster \n",
       "5  Me You and Five Bucks  \n",
       "6  Never Again            \n",
       "7  You've Got Mail        \n",
       "8  Two Weeks Notice       \n",
       "9  Valentine's Day        "
      ]
     },
     "execution_count": 725,
     "metadata": {},
     "output_type": "execute_result"
    }
   ],
   "source": [
    "output = get_movie_recommendations(\"Accidental Love\", cosine_similarity).reset_index(drop=True).reset_index().rename(columns={'title':'Recommended Movies'})\n",
    "del output['index']\n",
    "output"
   ]
  },
  {
   "cell_type": "code",
   "execution_count": null,
   "metadata": {},
   "outputs": [],
   "source": []
  },
  {
   "cell_type": "code",
   "execution_count": null,
   "metadata": {},
   "outputs": [],
   "source": []
  },
  {
   "cell_type": "code",
   "execution_count": null,
   "metadata": {},
   "outputs": [],
   "source": []
  },
  {
   "cell_type": "code",
   "execution_count": null,
   "metadata": {},
   "outputs": [],
   "source": []
  }
 ],
 "metadata": {
  "kernelspec": {
   "display_name": "Python 3",
   "language": "python",
   "name": "python3"
  },
  "language_info": {
   "codemirror_mode": {
    "name": "ipython",
    "version": 3
   },
   "file_extension": ".py",
   "mimetype": "text/x-python",
   "name": "python",
   "nbconvert_exporter": "python",
   "pygments_lexer": "ipython3",
   "version": "3.7.2"
  }
 },
 "nbformat": 4,
 "nbformat_minor": 2
}
